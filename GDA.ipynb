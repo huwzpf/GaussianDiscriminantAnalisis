{
 "cells": [
  {
   "cell_type": "markdown",
   "id": "45ff4e4c",
   "metadata": {},
   "source": [
    "# Gaussian Discriminant Analysis generative learning algorithm\n"
   ]
  },
  {
   "cell_type": "markdown",
   "id": "f30e62b8",
   "metadata": {},
   "source": [
    "Model is implemented for classifying between two classes \n",
    "\n",
    "Assumptions for the model are :\n",
    "\n",
    "$ y $ is distributed with $ Bernoulli $ distribution parametrized by  $\\phi $\n",
    "\n",
    "$ x | y =0 $ and $ x | y =1 $ are distributed with $ Gaussian $ distribution with means $ \\mu_0 , \\mu_1 $ and covariances $ \\Sigma $\n",
    "\n",
    "The distributions are :\n",
    "\n",
    "$$ p(y) = \\phi^y(1 - \\phi)^{1-y} $$\n",
    "\n",
    "\n",
    "$$ p(x|y) = \\frac{1}{2 \\pi ^{d/2} |\\Sigma|^{1/2} }exp(-\\frac{1}{2} ( x - \\mu)^T \\Sigma^{-1} (x-\\mu))$$\n",
    "\n",
    "\n",
    "where $d$ is size of $\\Sigma$ and $\\mu$ is $\\mu_0$ or $\\mu_1$ for $p(x|y=0)$ and $p(x|y=1)$  respectively\n",
    "\n"
   ]
  },
  {
   "cell_type": "code",
   "execution_count": null,
   "id": "65a720c3",
   "metadata": {},
   "outputs": [],
   "source": [
    "def prob_x_given_y(arg, mean, covariance):\n",
    "    a = -0.5 * np.transpose(arg - mean).dot((np.linalg.inv(covariance)).dot(arg - mean))\n",
    "    b = 1/(((2 * np.pi)**(covariance.shape[0]/2)) * np.sqrt(np.linalg.det(covariance)))\n",
    "\n",
    "    return b * np.exp(a)"
   ]
  },
  {
   "cell_type": "code",
   "execution_count": null,
   "id": "821cb335",
   "metadata": {},
   "outputs": [],
   "source": [
    "def train(x, y):\n",
    "    n = len(y)\n",
    "    labels = y.reshape(n, 1)"
   ]
  },
  {
   "cell_type": "markdown",
   "id": "1ca41636",
   "metadata": {},
   "source": [
    "Then log likelihood of data can be written as \n",
    "\n",
    "\n",
    "$$ log \\  \\prod^n_{i=1} p(x^{(i)}, y^{(i)} ; \\phi, \\mu_0, \\mu_1, \\Sigma )= \\ log \\ \\prod^n_{i=1}(p(x^{(i)} | y^{(i)}; \\mu_0, \\mu_1, \\Sigma) \\cdot p(y^{(i)}; \\phi))  $$\n",
    "\n",
    "\n",
    "By maximizing log likelihood function we get the parameters :\n",
    "\n",
    "$$ \\phi \\ = \\ \\frac{1}{n} \\sum_{i=1}^n 1\\{y^{(i)} = 1\\} $$\n",
    "\n",
    "\n",
    "$$ \\mu_1 \\ = \\ \\frac{\\sum_{i=1}^n 1\\{y^{(i)} = 1\\}x^{(i)}}{\\sum_{i=1}^n 1\\{y^{(i)} = 1\\}} $$\n",
    "\n",
    "$$ \\mu_0 \\ = \\ \\frac{\\sum_{i=1}^n 1\\{y^{(i)} = 0\\}x^{(i)}}{\\sum_{i=1}^n 1\\{y^{(i)} = 0\\}} $$\n"
   ]
  },
  {
   "cell_type": "code",
   "execution_count": null,
   "id": "495c2d14",
   "metadata": {},
   "outputs": [],
   "source": [
    "    positive_mean_numerator = 0\n",
    "    negative_mean_numerator = 0\n",
    "    y_positive_cnt = 0\n",
    "    y_negative_cnt = 0\n",
    "    for i in range(n):\n",
    "        if labels[i] == 1:\n",
    "            positive_mean_numerator += x[i, :]\n",
    "            y_positive_cnt += 1\n",
    "        else:\n",
    "            negative_mean_numerator += x[i, :]\n",
    "            y_negative_cnt += 1\n",
    "    mean_positive = np.array((positive_mean_numerator / y_positive_cnt))\n",
    "    mean_negative = np.array((negative_mean_numerator / y_negative_cnt))\n",
    "    class_prior = y_positive_cnt / n\n"
   ]
  },
  {
   "cell_type": "markdown",
   "id": "4ecd8b46",
   "metadata": {},
   "source": [
    "$$ \\Sigma = \\frac{1}{n} \\sum_{i=1}^n(x^{(i)} - \\mu_{y^{(i)}})(x^{(i)} - \\mu_{y^{(i)}})^T$$"
   ]
  },
  {
   "cell_type": "code",
   "execution_count": null,
   "id": "0670bbec",
   "metadata": {},
   "outputs": [],
   "source": [
    "    covariance = 0\n",
    "    y_neg = k = np.array([0 if a == 1 else 1 for a in labels]).reshape(n, 1)\n",
    "    temp = labels * (x - mean_positive) + y_neg * (x - mean_negative)\n",
    "    covariance = (np.transpose(temp).dot(temp))/n"
   ]
  },
  {
   "cell_type": "markdown",
   "id": "13191b78",
   "metadata": {},
   "source": [
    "A predict function "
   ]
  },
  {
   "cell_type": "code",
   "execution_count": null,
   "id": "05ceeb76",
   "metadata": {},
   "outputs": [],
   "source": [
    "def predict(arg, mean_pos, mean_neg, covariance, prior):\n",
    "    pos = prob_x_given_y(arg, mean_pos, covariance) * prior\n",
    "    neg = prob_x_given_y(arg, mean_neg, covariance) * (1 - prior)\n",
    "    if pos > neg:\n",
    "        return 1\n",
    "    else:\n",
    "        return 0"
   ]
  },
  {
   "cell_type": "markdown",
   "id": "522aa9be",
   "metadata": {},
   "source": [
    "Plotting data and decision boundary :\n",
    "    "
   ]
  },
  {
   "cell_type": "code",
   "execution_count": null,
   "id": "173d6298",
   "metadata": {},
   "outputs": [],
   "source": [
    "  for i in range(n):\n",
    "        if labels[i] == 0:\n",
    "            color = '#ff2200'\n",
    "        else:\n",
    "            color = '#1f77b4'\n",
    "        plt.scatter(x[i, 0], x[i, 1], c=color)\n",
    "\n",
    "    axes = plt.gca()\n",
    "    (x_min, x_max) = axes.get_xlim()\n",
    "    (y_min, y_max) = axes.get_ylim()\n",
    "    # arbitrary number\n",
    "    elements = n * 2\n",
    "    x_grid, y_grid = np.meshgrid(np.linspace(x_min, x_max, elements), np.linspace(y_min, y_max, elements))\n",
    "    p = np.empty((elements, elements))\n",
    "    for i in range(elements):\n",
    "        for j in range(elements):\n",
    "            k = np.array([x_grid[i, j], y_grid[i, j]])\n",
    "            p[i, j] = predict(k.reshape(x.shape[1], 1), mean_positive.reshape(x.shape[1], 1),\n",
    "                              mean_negative.reshape(x.shape[1], 1), covariance, class_prior)\n",
    "    plt.contour(x_grid, y_grid, p, levels=[0.5])\n",
    "\n",
    "    plt.show()"
   ]
  },
  {
   "cell_type": "markdown",
   "id": "7967d2ec",
   "metadata": {},
   "source": [
    "Output for examplary data"
   ]
  },
  {
   "cell_type": "markdown",
   "id": "34a52a80",
   "metadata": {},
   "source": [
    "![\"output\"](plot.png)"
   ]
  }
 ],
 "metadata": {
  "kernelspec": {
   "display_name": "Python 3 (ipykernel)",
   "language": "python",
   "name": "python3"
  },
  "language_info": {
   "codemirror_mode": {
    "name": "ipython",
    "version": 3
   },
   "file_extension": ".py",
   "mimetype": "text/x-python",
   "name": "python",
   "nbconvert_exporter": "python",
   "pygments_lexer": "ipython3",
   "version": "3.9.10"
  }
 },
 "nbformat": 4,
 "nbformat_minor": 5
}
